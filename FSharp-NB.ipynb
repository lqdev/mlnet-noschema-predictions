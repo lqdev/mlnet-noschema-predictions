{
 "metadata": {
  "kernelspec": {
   "display_name": ".NET (F#)",
   "language": "F#",
   "name": ".net-fsharp"
  },
  "language_info": {
   "name": "F#"
  }
 },
 "cells": [
  {
   "cell_type": "code",
   "execution_count": null,
   "source": [
    "#r \"nuget:Microsoft.ML,1.6.0\"\r\n",
    "#r \"nuget:Microsoft.Data.Analysis,0.18.0\""
   ],
   "outputs": [
    {
     "data": {
      "text/html": [
       "<div><div></div><div></div><div><strong>Installed Packages</strong><ul><li><span>Microsoft.Data.Analysis, 0.18.0</span></li><li><span>Microsoft.ML, 1.6.0</span></li></ul></div></div>"
      ]
     },
     "metadata": {},
     "output_type": "display_data"
    },
    {
     "data": {
      "text/markdown": [
       "Loading extensions from `Microsoft.Data.Analysis.Interactive.dll`"
      ]
     },
     "metadata": {},
     "output_type": "display_data"
    }
   ],
   "metadata": {
    "dotnet_interactive": {
     "language": "fsharp"
    }
   }
  },
  {
   "cell_type": "code",
   "execution_count": null,
   "source": [
    "open Microsoft.ML\r\n",
    "open Microsoft.Data.Analysis"
   ],
   "outputs": [],
   "metadata": {
    "dotnet_interactive": {
     "language": "fsharp"
    }
   }
  },
  {
   "cell_type": "code",
   "execution_count": null,
   "source": [
    "let ctx = MLContext()\r\n",
    "let model,schema = ctx.Model.Load(\"sentiment_model.zip\")"
   ],
   "outputs": [],
   "metadata": {
    "dotnet_interactive": {
     "language": "fsharp"
    }
   }
  },
  {
   "cell_type": "code",
   "execution_count": null,
   "source": [
    "let inputColumnNames = \r\n",
    "    schema \r\n",
    "    |> Seq.map(fun column -> column.Name) \r\n",
    "    |> Array.ofSeq\r\n",
    "\r\n",
    "let outputColumnNames = [| \"PredictedLabel\" ; \"Score\" |]"
   ],
   "outputs": [],
   "metadata": {
    "dotnet_interactive": {
     "language": "fsharp"
    }
   }
  },
  {
   "cell_type": "code",
   "execution_count": null,
   "source": [
    "let sampleInput = \"This was a very bad steak\"\r\n",
    "let inputDataFrame = \r\n",
    "    DataFrame.LoadCsvFromString(\r\n",
    "        sampleInput, \r\n",
    "        header=false, \r\n",
    "        columnNames=inputColumnNames)"
   ],
   "outputs": [],
   "metadata": {
    "dotnet_interactive": {
     "language": "fsharp"
    }
   }
  },
  {
   "cell_type": "code",
   "execution_count": null,
   "source": [
    "let predictionDV = \r\n",
    "    inputDataFrame \r\n",
    "    |> model.Transform \r\n",
    "\r\n",
    "let prediction = predictionDV.ToDataFrame(1L, outputColumnNames)"
   ],
   "outputs": [],
   "metadata": {
    "dotnet_interactive": {
     "language": "fsharp"
    }
   }
  },
  {
   "cell_type": "code",
   "execution_count": null,
   "source": [
    "prediction"
   ],
   "outputs": [
    {
     "data": {
      "text/html": [
       "<table id=\"table_637674228239786537\"><thead><tr><th><i>index</i></th><th>PredictedLabel</th><th>Score</th></tr></thead><tbody><tr><td><i><div class=\"dni-plaintext\">0</div></i></td><td><div class=\"dni-plaintext\">False</div></td><td><div class=\"dni-plaintext\">-2.1337974</div></td></tr></tbody></table>"
      ]
     },
     "metadata": {},
     "output_type": "display_data"
    }
   ],
   "metadata": {
    "dotnet_interactive": {
     "language": "fsharp"
    }
   }
  }
 ],
 "nbformat": 4,
 "nbformat_minor": 2
}